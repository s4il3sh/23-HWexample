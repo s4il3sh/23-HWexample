{
  "nbformat": 4,
  "nbformat_minor": 0,
  "metadata": {
    "colab": {
      "provenance": [],
      "authorship_tag": "ABX9TyO5Q6xZMkukBO/yPouCXvA2",
      "include_colab_link": true
    },
    "kernelspec": {
      "name": "python3",
      "display_name": "Python 3"
    },
    "language_info": {
      "name": "python"
    }
  },
  "cells": [
    {
      "cell_type": "markdown",
      "metadata": {
        "id": "view-in-github",
        "colab_type": "text"
      },
      "source": [
        "<a href=\"https://colab.research.google.com/github/s4il3sh/23-HWexample/blob/main/cp_final.ipynb\" target=\"_parent\"><img src=\"https://colab.research.google.com/assets/colab-badge.svg\" alt=\"Open In Colab\"/></a>"
      ]
    },
    {
      "cell_type": "code",
      "execution_count": 3,
      "metadata": {
        "id": "Xsg7zGzPGJIl"
      },
      "outputs": [],
      "source": [
        "# prompt: import  csv file using panda\n",
        "\n",
        "import csv\n",
        "import pandas as pd\n",
        "with open('your_csv_file.csv', 'r') as f:\n",
        "  reader = csv.reader(f)\n",
        "  data = list(reader)\n",
        "  df = pd.DataFrame(data)\n"
      ]
    }
  ]
}